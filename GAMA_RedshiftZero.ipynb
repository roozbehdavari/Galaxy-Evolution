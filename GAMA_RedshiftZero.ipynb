{
 "cells": [
  {
   "cell_type": "code",
   "execution_count": 1,
   "metadata": {
    "collapsed": true
   },
   "outputs": [],
   "source": [
    "import pyfits\n",
    "import numpy as np\n",
    "import pandas as pd\n",
    "import physical_scale_func as phys"
   ]
  },
  {
   "cell_type": "code",
   "execution_count": 2,
   "metadata": {
    "collapsed": true
   },
   "outputs": [],
   "source": [
    "Sersic = pyfits.open('../SM/GAMA/SersicCatAll.fits')\n",
    "Mass = pyfits.open('../SM/GAMA/StellarMasses.fits')"
   ]
  },
  {
   "cell_type": "code",
   "execution_count": 3,
   "metadata": {
    "collapsed": false
   },
   "outputs": [
    {
     "name": "stderr",
     "output_type": "stream",
     "text": [
      "/Users/Roozbeh/anaconda/lib/python2.7/site-packages/pyfits/verify.py:115: VerifyWarning: Verification reported errors:\n",
      "  warnings.warn(line, VerifyWarning)\n",
      "/Users/Roozbeh/anaconda/lib/python2.7/site-packages/pyfits/verify.py:115: VerifyWarning: Card 147:\n",
      "  warnings.warn(line, VerifyWarning)\n",
      "/Users/Roozbeh/anaconda/lib/python2.7/site-packages/pyfits/verify.py:115: VerifyWarning:     Card 'TCOMM34' is not FITS standard (invalid value string: \"'Best-fit observers` frame u-band apparent magnitude from SPS SED fits\").  Fixed 'TCOMM34' card to meet the FITS standard.\n",
      "  warnings.warn(line, VerifyWarning)\n",
      "/Users/Roozbeh/anaconda/lib/python2.7/site-packages/pyfits/verify.py:115: VerifyWarning: Card 171:\n",
      "  warnings.warn(line, VerifyWarning)\n",
      "/Users/Roozbeh/anaconda/lib/python2.7/site-packages/pyfits/verify.py:115: VerifyWarning:     Card 'TCOMM39' is not FITS standard (invalid value string: \"'Best-fit observers` frame g-band apparent magnitude from SPS SED fits\").  Fixed 'TCOMM39' card to meet the FITS standard.\n",
      "  warnings.warn(line, VerifyWarning)\n",
      "/Users/Roozbeh/anaconda/lib/python2.7/site-packages/pyfits/verify.py:115: VerifyWarning: Card 195:\n",
      "  warnings.warn(line, VerifyWarning)\n",
      "/Users/Roozbeh/anaconda/lib/python2.7/site-packages/pyfits/verify.py:115: VerifyWarning:     Card 'TCOMM44' is not FITS standard (invalid value string: \"'Best-fit observers` frame r-band apparent magnitude from SPS SED fits\").  Fixed 'TCOMM44' card to meet the FITS standard.\n",
      "  warnings.warn(line, VerifyWarning)\n",
      "/Users/Roozbeh/anaconda/lib/python2.7/site-packages/pyfits/verify.py:115: VerifyWarning: Card 219:\n",
      "  warnings.warn(line, VerifyWarning)\n",
      "/Users/Roozbeh/anaconda/lib/python2.7/site-packages/pyfits/verify.py:115: VerifyWarning:     Card 'TCOMM49' is not FITS standard (invalid value string: \"'Best-fit observers` frame i-band apparent magnitude from SPS SED fits\").  Fixed 'TCOMM49' card to meet the FITS standard.\n",
      "  warnings.warn(line, VerifyWarning)\n",
      "/Users/Roozbeh/anaconda/lib/python2.7/site-packages/pyfits/verify.py:115: VerifyWarning: Card 243:\n",
      "  warnings.warn(line, VerifyWarning)\n",
      "/Users/Roozbeh/anaconda/lib/python2.7/site-packages/pyfits/verify.py:115: VerifyWarning:     Card 'TCOMM54' is not FITS standard (invalid value string: \"'Best-fit observers` frame z-band apparent magnitude from SPS SED fits\").  Fixed 'TCOMM54' card to meet the FITS standard.\n",
      "  warnings.warn(line, VerifyWarning)\n",
      "/Users/Roozbeh/anaconda/lib/python2.7/site-packages/pyfits/verify.py:115: VerifyWarning: Note: PyFITS uses zero-based indexing.\n",
      "\n",
      "  warnings.warn(line, VerifyWarning)\n"
     ]
    }
   ],
   "source": [
    "sersic = Sersic[1].data\n",
    "sersic = pd.DataFrame(np.array(sersic))\n",
    "## Fixing bad entries\n",
    "Mass[1].verify('fix')\n",
    "mass = Mass[1].data"
   ]
  },
  {
   "cell_type": "code",
   "execution_count": 93,
   "metadata": {
    "collapsed": false
   },
   "outputs": [],
   "source": [
    "highMass = mass[np.array(mass['logmstar'] > 11.1) & np.array(mass['logmstar'] < 11.3) & np.array(mass['Z'] < 0.5)]"
   ]
  },
  {
   "cell_type": "code",
   "execution_count": 94,
   "metadata": {
    "collapsed": false
   },
   "outputs": [],
   "source": [
    "## There was an error and had to look it up\n",
    "## https://github.com/astropy/astropy/issues/1156\n",
    "highMass = pd.DataFrame(np.array(highMass).byteswap().newbyteorder())"
   ]
  },
  {
   "cell_type": "code",
   "execution_count": 95,
   "metadata": {
    "collapsed": false
   },
   "outputs": [],
   "source": [
    "combi = pd.merge(sersic, highMass, how='inner', on='CATAID')"
   ]
  },
  {
   "cell_type": "code",
   "execution_count": 96,
   "metadata": {
    "collapsed": false
   },
   "outputs": [
    {
     "name": "stdout",
     "output_type": "stream",
     "text": [
      "0.2766\n",
      "3.63315\n"
     ]
    }
   ],
   "source": [
    "print np.median(combi['GAL_ELLIP_R'])  \n",
    "print np.median(combi['GAL_INDEX_R'])  "
   ]
  },
  {
   "cell_type": "code",
   "execution_count": 97,
   "metadata": {
    "collapsed": false
   },
   "outputs": [
    {
     "name": "stdout",
     "output_type": "stream",
     "text": [
      "[ 1.15052509  1.21514988]\n",
      "[ 0.106025  0.1372  ]\n"
     ]
    }
   ],
   "source": [
    "print (np.percentile(combi['GAL_INDEX_R'] ,[25,75]) - np.median(combi['GAL_INDEX_R'])) * [-1,1]\n",
    "print (np.percentile(combi['GAL_ELLIP_R'] ,[25,75]) - np.median(combi['GAL_ELLIP_R'])) * [-1,1]"
   ]
  },
  {
   "cell_type": "code",
   "execution_count": 48,
   "metadata": {
    "collapsed": true
   },
   "outputs": [],
   "source": [
    "re_kpc = combi['GAL_RE_R']*(combi['Z'].apply(lambda x: phys.physical_scale(x)))*np.sqrt(1-combi['GAL_ELLIP_R'])"
   ]
  },
  {
   "cell_type": "code",
   "execution_count": 49,
   "metadata": {
    "collapsed": false
   },
   "outputs": [],
   "source": [
    "re_med = np.median(re_kpc)\n",
    "re_err = (np.percentile(re_kpc,[25,75]) - np.median(re_kpc)) * [-1,1]"
   ]
  },
  {
   "cell_type": "code",
   "execution_count": 55,
   "metadata": {
    "collapsed": false
   },
   "outputs": [
    {
     "name": "stdout",
     "output_type": "stream",
     "text": [
      "5.4527450754\n",
      "[ 1.23151241  1.94795081]\n"
     ]
    }
   ],
   "source": [
    "print re_med\n",
    "print re_err"
   ]
  },
  {
   "cell_type": "code",
   "execution_count": 68,
   "metadata": {
    "collapsed": false
   },
   "outputs": [
    {
     "name": "stdout",
     "output_type": "stream",
     "text": [
      "19.9156\n"
     ]
    }
   ],
   "source": [
    "print np.median(combi['GAL_MAG_G'])"
   ]
  },
  {
   "cell_type": "code",
   "execution_count": null,
   "metadata": {
    "collapsed": true
   },
   "outputs": [],
   "source": []
  }
 ],
 "metadata": {
  "kernelspec": {
   "display_name": "Python 2",
   "language": "python",
   "name": "python2"
  },
  "language_info": {
   "codemirror_mode": {
    "name": "ipython",
    "version": 2
   },
   "file_extension": ".py",
   "mimetype": "text/x-python",
   "name": "python",
   "nbconvert_exporter": "python",
   "pygments_lexer": "ipython2",
   "version": "2.7.9"
  }
 },
 "nbformat": 4,
 "nbformat_minor": 0
}
